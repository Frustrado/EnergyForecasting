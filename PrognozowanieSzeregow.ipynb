{
 "cells": [
  {
   "cell_type": "markdown",
   "metadata": {},
   "source": [
    "# Import libraries"
   ]
  },
  {
   "cell_type": "code",
   "execution_count": 1,
   "metadata": {},
   "outputs": [
    {
     "name": "stderr",
     "output_type": "stream",
     "text": [
      "Using TensorFlow backend.\n"
     ]
    }
   ],
   "source": [
    "from math import sqrt\n",
    "from numpy import array\n",
    "from numpy import mean\n",
    "import pandas as pd\n",
    "from pandas import DataFrame\n",
    "from pandas import concat\n",
    "from pandas import read_csv\n",
    "from sklearn.metrics import explained_variance_score,max_error,mean_absolute_error,mean_squared_error,mean_squared_log_error,median_absolute_error,r2_score\n",
    "from keras.models import Sequential\n",
    "from keras.layers import Dense\n",
    "from keras.layers import LSTM\n",
    "from keras.layers import Flatten\n",
    "from keras.layers.convolutional import Conv1D\n",
    "from keras.layers.convolutional import MaxPooling1D"
   ]
  },
  {
   "cell_type": "code",
   "execution_count": 2,
   "metadata": {},
   "outputs": [],
   "source": [
    "def train_test_split(data, n_test):\n",
    "    return data[:int(0.8*data.shape[0])], data[int(0.8*data.shape[0]):]"
   ]
  },
  {
   "cell_type": "markdown",
   "metadata": {},
   "source": [
    "## Perceptron"
   ]
  },
  {
   "cell_type": "code",
   "execution_count": 3,
   "metadata": {},
   "outputs": [],
   "source": [
    "def perceptron_model(config):\n",
    "    *_, n_features, n_input= config\n",
    "    model_mlp = Sequential()\n",
    "    model_mlp.add(Dense(units=50, input_shape=(n_input, n_features)))\n",
    "    model_mlp.add(Dense(1))\n",
    "    model_mlp.compile(optimizer=\"adam\", loss=\"mean_squared_error\")\n",
    "    return model_mlp"
   ]
  },
  {
   "cell_type": "markdown",
   "metadata": {},
   "source": [
    "## LSTM "
   ]
  },
  {
   "cell_type": "code",
   "execution_count": 4,
   "metadata": {},
   "outputs": [],
   "source": [
    "def lstm_model(config):\n",
    "    *_, n_features, n_input, n_nodes = config\n",
    "    model = Sequential()\n",
    "    model.add(LSTM(n_nodes, activation='relu', input_shape=(n_input, n_features)))\n",
    "    model.add(Dense(n_nodes, activation='relu'))\n",
    "    model.add(Dense(1))\n",
    "    model.compile(loss='mse', optimizer='adam')\n",
    "#     model.name=\"LSTM\"\n",
    "    return model"
   ]
  },
  {
   "cell_type": "markdown",
   "metadata": {},
   "source": [
    "## Conv1D"
   ]
  },
  {
   "cell_type": "code",
   "execution_count": 5,
   "metadata": {},
   "outputs": [],
   "source": [
    "def conv1d_model(config):\n",
    "    *_, n_features, n_input, n_filters, n_kernel = config\n",
    "    model = Sequential()\n",
    "    model.add(Conv1D(filters=n_filters, kernel_size=n_kernel, activation='relu', input_shape=(n_input, n_features)))\n",
    "    model.add(MaxPooling1D(pool_size=2))\n",
    "    model.add(Flatten())\n",
    "    model.add(Dense(1))\n",
    "    model.compile(loss='mse', optimizer='adam')\n",
    "#     model.name=\"Conv1D\"\n",
    "    return model"
   ]
  },
  {
   "cell_type": "code",
   "execution_count": 6,
   "metadata": {},
   "outputs": [],
   "source": [
    "def configuration(name, *args):\n",
    "    name = name.split(\"-\")[0]\n",
    "    if(name==\"perceptron\"):\n",
    "        n_input = args[0]\n",
    "        n_nodes = args[1]\n",
    "        n_epochs = args[2]\n",
    "        n_batch = args[3]\n",
    "        n_diff = args[4]\n",
    "        n_features = args[5]\n",
    "        configs = list()\n",
    "        for i in n_epochs:\n",
    "            for j in n_batch:\n",
    "                for k in n_diff:\n",
    "                    for l in n_features:\n",
    "                        for m in n_input:\n",
    "                            for n in n_nodes:\n",
    "                                cfg = [i, j, k, l, m, n]\n",
    "                                configs.append(cfg)\n",
    "        return (configs, [\"n_epochs\",\"n_batch\",\"n_diff\",\"n_features\",\"n_input\",\"n_nodes\"])\n",
    "    \n",
    "    if(name==\"lstm\"):\n",
    "        n_input = args[0]\n",
    "        n_nodes = args[1]\n",
    "        n_epochs = args[2]\n",
    "        n_batch = args[3]\n",
    "        n_diff = args[4]\n",
    "        n_features = args[5]\n",
    "        configs = list()\n",
    "        for i in n_epochs:\n",
    "            for j in n_batch:\n",
    "                for k in n_diff:\n",
    "                    for l in n_features:\n",
    "                        for m in n_input:\n",
    "                            for n in n_nodes:\n",
    "                                cfg = [i, j, k, l, m, n]\n",
    "                                configs.append(cfg)\n",
    "        return (configs, [\"n_epochs\",\"n_batch\",\"n_diff\",\"n_features\",\"n_input\",\"n_nodes\"])\n",
    "    \n",
    "    if(name==\"conv1d\"):\n",
    "        n_input = [12]\n",
    "        n_filters = [64]\n",
    "        n_kernel = [3]\n",
    "        n_epochs = [50]\n",
    "        n_batch = [1]\n",
    "        n_diff = [12]\n",
    "        n_features = [1]\n",
    "        configs = list()\n",
    "        for i in n_epochs:\n",
    "            for j in n_batch:\n",
    "                for k in n_diff:\n",
    "                    for l in n_features:\n",
    "                        for m in n_input:\n",
    "                            for n in n_filters:\n",
    "                                for o in n_kernel:\n",
    "                                    cfg = [i, j, k, l, m, n, o]\n",
    "                                    configs.append(cfg)\n",
    "        return (configs, [\"n_epochs\",\"n_batch\",\"n_diff\",\"n_features\",\"n_input\",\"n_filters\",\"n_kernel\" ])"
   ]
  },
  {
   "cell_type": "code",
   "execution_count": 7,
   "metadata": {},
   "outputs": [],
   "source": [
    "series = read_csv('airline-passengers.csv', header=0, index_col=0)\n",
    "data = series.values\n",
    "n_test = 12"
   ]
  },
  {
   "cell_type": "code",
   "execution_count": 8,
   "metadata": {},
   "outputs": [],
   "source": [
    "# transform list into supervised learning format\n",
    "def series_to_supervised(data, n_in=1, n_out=1):\n",
    "    df = DataFrame(data)\n",
    "    cols = list()\n",
    "    # input sequence (t-n, ... t-1)\n",
    "    for i in range(n_in, 0, -1):\n",
    "        cols.append(df.shift(i))\n",
    "    # forecast sequence (t, t+1, ... t+n)\n",
    "    for i in range(0, n_out):\n",
    "        cols.append(df.shift(-i))\n",
    "    # put it all together\n",
    "    agg = concat(cols, axis=1)\n",
    "    # drop rows with NaN values\n",
    "    agg.dropna(inplace=True)\n",
    "    return agg.values"
   ]
  },
  {
   "cell_type": "code",
   "execution_count": 9,
   "metadata": {},
   "outputs": [],
   "source": [
    "def measure_error(actual, predicted):\n",
    "    return [explained_variance_score(actual, predicted),max_error(actual, predicted),\n",
    "            mean_absolute_error(actual, predicted),mean_squared_error(actual, predicted),\n",
    "            sqrt(mean_squared_error(actual, predicted)),mean_squared_log_error(actual, predicted),\n",
    "            median_absolute_error(actual, predicted),r2_score(actual, predicted)]\n",
    "                                                    "
   ]
  },
  {
   "cell_type": "code",
   "execution_count": 10,
   "metadata": {},
   "outputs": [],
   "source": [
    "def difference(data, order):\n",
    "    return [data[i] - data[i - order] for i in range(order, len(data))]"
   ]
  },
  {
   "cell_type": "code",
   "execution_count": 11,
   "metadata": {},
   "outputs": [],
   "source": [
    "def model_fit(train, config, create_model):\n",
    "    # unpack config\n",
    "    n_epochs, n_batch, n_diff,n_features,n_input,*_ = config\n",
    "    # prepare data\n",
    "    if n_diff > 0:\n",
    "        train = difference(train, n_diff)\n",
    "    # transform series into supervised format\n",
    "    data = series_to_supervised(train, n_in=n_input)\n",
    "    # separate inputs and outputs\n",
    "    train_x, train_y = data[:, :-1], data[:, -1]\n",
    "    # reshape input data into [samples, timesteps, features]\n",
    "    train_x = train_x.reshape((train_x.shape[0], train_x.shape[1], n_features))\n",
    "    # define model\n",
    "#     model = lstm_model(config);\n",
    "    model = create_model\n",
    "    # fit\n",
    "    model.fit(train_x, train_y, epochs=n_epochs, batch_size=n_batch, verbose=0)\n",
    "    return model"
   ]
  },
  {
   "cell_type": "code",
   "execution_count": 12,
   "metadata": {},
   "outputs": [],
   "source": [
    "# forecast with the fit model\n",
    "def model_predict(model, history, config, create_model):\n",
    "    # unpack config\n",
    "    _,_,n_diff,_,n_input,*_ = config\n",
    "    # prepare data\n",
    "    correction = 0.0\n",
    "    if n_diff > 0:\n",
    "        correction = history[-n_diff]\n",
    "        history = difference(history, n_diff)\n",
    "    x_input = array(history[-n_input:]).reshape((1, n_input, 1))\n",
    "    # forecast\n",
    "    yhat = model.predict(x_input, verbose=0)\n",
    "    return correction + yhat[0]"
   ]
  },
  {
   "cell_type": "code",
   "execution_count": 13,
   "metadata": {},
   "outputs": [],
   "source": [
    "def walk_forward_validation(data, n_test, cfg, create_model,array_of_results):\n",
    "    predictions = list()\n",
    "    # split dataset\n",
    "    train, test = train_test_split(data, n_test)\n",
    "    # fit model\n",
    "    model = model_fit(train, cfg, create_model)\n",
    "    # seed history with training dataset\n",
    "    history = [x for x in train]\n",
    "    # step over each time-step in the test set\n",
    "    for i in range(len(test)):\n",
    "        # fit model and make forecast for history\n",
    "        yhat = model_predict(model, history, cfg, create_model)\n",
    "        # store forecast in list of predictions\n",
    "        predictions.append(yhat)\n",
    "        # add actual observation to history for the next loop\n",
    "        history.append(test[i])\n",
    "    # estimate prediction error\n",
    "    error = measure_error(test, predictions)\n",
    "\n",
    "    return error"
   ]
  },
  {
   "cell_type": "code",
   "execution_count": 14,
   "metadata": {},
   "outputs": [],
   "source": [
    "def repeat_evaluate(data, config, n_test,create_model,array_of_results,keys, n_repeats=2):\n",
    "    #MOŻE TU BYĆ PROBLEM W JAK ZMIENIMY n_repeats\n",
    "    scores = [walk_forward_validation(data, n_test, config, create_model,array_of_results) for _ in range(n_repeats)]\n",
    "    results ={}\n",
    "    scores = zip(scores[0],scores[1])\n",
    "    result = []\n",
    "    for s in scores:\n",
    "        result.append(mean(s))\n",
    "        \n",
    "    if \"Model\" not in results:\n",
    "        results[\"Model\"] = list()\n",
    "    results[\"Model\"].extend([create_model.name])\n",
    "\n",
    "#     for k,c in zip(keys,config):\n",
    "#         if str(k) not in results:\n",
    "#             results[str(k)] = list()\n",
    "#         results[str(k)].extend([c])\n",
    "\n",
    "    if \"EVC\" not in results:\n",
    "        results[\"EVC\"] = list()\n",
    "    results[\"EVC\"].extend([result[0]])\n",
    "\n",
    "    if \"ME\" not in results:\n",
    "        results[\"ME\"] = list()\n",
    "    results[\"ME\"].extend([result[1]])\n",
    "\n",
    "    if \"MAE\" not in results:\n",
    "        results[\"MAE\"] = list()\n",
    "    results[\"MAE\"].extend([result[2]])\n",
    "\n",
    "    if \"MSE\" not in results:\n",
    "        results[\"MSE\"] = list()\n",
    "    results[\"MSE\"].extend([result[3]])\n",
    "\n",
    "    if \"RMSE\" not in results:\n",
    "        results[\"RMSE\"] = list()\n",
    "    results[\"RMSE\"].extend([result[4]])\n",
    "\n",
    "    if \"MSLE\" not in results:\n",
    "        results[\"MSLE\"] = list()\n",
    "    results[\"MSLE\"].extend([result[5]])\n",
    "\n",
    "    if \"MED\" not in results:\n",
    "        results[\"MED\"] = list()\n",
    "    results[\"MED\"].extend([result[6]])\n",
    "\n",
    "    if \"R2\" not in results:\n",
    "        results[\"R2\"] = list()\n",
    "    results[\"R2\"].extend([result[7]])\n",
    "\n",
    "  \n",
    "    return results"
   ]
  },
  {
   "cell_type": "code",
   "execution_count": 15,
   "metadata": {},
   "outputs": [],
   "source": [
    "def update_model(name,*args):\n",
    "    return configuration(name, *args)"
   ]
  },
  {
   "cell_type": "code",
   "execution_count": 16,
   "metadata": {},
   "outputs": [],
   "source": [
    "def run():\n",
    "\n",
    "    cfg_list = []\n",
    "    cfg_list.append(lstm_model)\n",
    "    cfg_list.append(conv1d_model)\n",
    "#     cfg_list.append(perceptron_model)\n",
    "    \n",
    "    default_config = []\n",
    "    default_config.append(([12],[100],[2,3],[1],[12],[1]))\n",
    "    default_config.append(([12],[64],[3],[50],[1],[12],[1]))\n",
    "#     default_config.append(([12],[100],[50],[1],[12],[1]))\n",
    "    array_of_results = []\n",
    "    results = {}\n",
    "    array_of_models = []\n",
    "    for cfg_model,def_cfg in zip(cfg_list,default_config):\n",
    "        i=1\n",
    "        results.clear()\n",
    "#         config = configuration(str(cfg_model.__name__.split(\"_\")[0]), )[0]\n",
    "        config = update_model(str(cfg_model.__name__.split(\"_\")[0]),(*def_cfg))[0]\n",
    "        for cfg in config:\n",
    "            model = cfg_model(cfg)\n",
    "            model.name=str(cfg_model.__name__.split(\"_\")[0]+\"-\"+str(i))\n",
    "            i +=1\n",
    "            array_of_models.append(model)\n",
    "            array_of_results.append(repeat_evaluate(data, cfg, n_test, model, array_of_results,configuration(str(cfg_model.__name__.split(\"_\")[0]),(*def_cfg))[1]))\n",
    "                    \n",
    "    array_of_dataframes = []\n",
    "    for i in array_of_results:\n",
    "        array_of_dataframes.append(pd.DataFrame.from_dict(i))\n",
    "        \n",
    "    return (array_of_dataframes, array_of_models)\n",
    "    "
   ]
  },
  {
   "cell_type": "code",
   "execution_count": 17,
   "metadata": {},
   "outputs": [],
   "source": [
    "dfs,models = run()"
   ]
  },
  {
   "cell_type": "code",
   "execution_count": 43,
   "metadata": {},
   "outputs": [],
   "source": [
    "def run_model(model_name, conf, result_df):\n",
    "    array_of_results = []\n",
    "    cfg = update_model(str(model_name),(*conf))[0][0]\n",
    "    i = int(model_name.split(\"-\")[1])\n",
    "    model = eval(model_name.split(\"-\")[0]+\"_model\")(cfg)\n",
    "    model.name=str(model_name.split(\"-\")[0]+\"-\"+str(i+1))\n",
    "    result = repeat_evaluate(data, cfg, n_test, model, array_of_results,configuration(str(model.name),cfg)[1])\n",
    "    result = pd.DataFrame.from_dict(result)\n",
    "    return pd.concat([result,result_df]), model"
   ]
  },
  {
   "cell_type": "code",
   "execution_count": 19,
   "metadata": {},
   "outputs": [],
   "source": [
    "def find_max(df_array,stat):\n",
    "    max =0\n",
    "    model = \"\"\n",
    "    for i in df_array:\n",
    "        if(max <= int(i.iloc[0][stat])):\n",
    "            model = i.iloc[0][\"Model\"]\n",
    "    return model"
   ]
  },
  {
   "cell_type": "code",
   "execution_count": 20,
   "metadata": {},
   "outputs": [],
   "source": [
    "def get_model(list_of_models,model):\n",
    "    index = -1;\n",
    "    for m in list_of_models:\n",
    "        index += 1\n",
    "        if(model==m.name):\n",
    "            return (m,index)"
   ]
  },
  {
   "cell_type": "code",
   "execution_count": 41,
   "metadata": {},
   "outputs": [],
   "source": [
    "def test():\n",
    "    df_model = dfs[get_model(models,find_max(dfs,\"R2\"))[1]]\n",
    "    df_model.head()\n",
    "    df_model, model = run_model(df_model.iloc[0][\"Model\"],([0],[12],[55],[3],[50],[1],[12],[1]),df_model)\n",
    "    models.append(model)\n",
    "    df_model, model = run_model(df_model.iloc[0][\"Model\"],([0],[12],[60],[3],[50],[1],[12],[1]),df_model)\n",
    "    models.append(model)\n",
    "    return df_model\n"
   ]
  },
  {
   "cell_type": "code",
   "execution_count": 42,
   "metadata": {},
   "outputs": [
    {
     "name": "stdout",
     "output_type": "stream",
     "text": [
      "[50, 1, 12, 1, 12, 64, 3]\n",
      "conv1d_model\n",
      "1\n",
      "[50, 1, 12, 1, 12, 64, 3]\n",
      "[50, 1, 12, 1, 12, 64, 3]\n",
      "conv1d_model\n",
      "2\n",
      "[50, 1, 12, 1, 12, 64, 3]\n"
     ]
    },
    {
     "data": {
      "text/html": [
       "<div>\n",
       "<style scoped>\n",
       "    .dataframe tbody tr th:only-of-type {\n",
       "        vertical-align: middle;\n",
       "    }\n",
       "\n",
       "    .dataframe tbody tr th {\n",
       "        vertical-align: top;\n",
       "    }\n",
       "\n",
       "    .dataframe thead th {\n",
       "        text-align: right;\n",
       "    }\n",
       "</style>\n",
       "<table border=\"1\" class=\"dataframe\">\n",
       "  <thead>\n",
       "    <tr style=\"text-align: right;\">\n",
       "      <th></th>\n",
       "      <th>Model</th>\n",
       "      <th>EVC</th>\n",
       "      <th>ME</th>\n",
       "      <th>MAE</th>\n",
       "      <th>MSE</th>\n",
       "      <th>RMSE</th>\n",
       "      <th>MSLE</th>\n",
       "      <th>MED</th>\n",
       "      <th>R2</th>\n",
       "    </tr>\n",
       "  </thead>\n",
       "  <tbody>\n",
       "    <tr>\n",
       "      <td>0</td>\n",
       "      <td>conv1d-3</td>\n",
       "      <td>0.934000</td>\n",
       "      <td>49.981058</td>\n",
       "      <td>16.823243</td>\n",
       "      <td>440.646566</td>\n",
       "      <td>20.943790</td>\n",
       "      <td>0.002507</td>\n",
       "      <td>14.839256</td>\n",
       "      <td>0.927816</td>\n",
       "    </tr>\n",
       "    <tr>\n",
       "      <td>0</td>\n",
       "      <td>conv1d-2</td>\n",
       "      <td>0.927676</td>\n",
       "      <td>49.352808</td>\n",
       "      <td>17.479027</td>\n",
       "      <td>458.438458</td>\n",
       "      <td>21.307136</td>\n",
       "      <td>0.002533</td>\n",
       "      <td>14.022659</td>\n",
       "      <td>0.924901</td>\n",
       "    </tr>\n",
       "    <tr>\n",
       "      <td>0</td>\n",
       "      <td>conv1d-1</td>\n",
       "      <td>0.938936</td>\n",
       "      <td>50.629785</td>\n",
       "      <td>15.859453</td>\n",
       "      <td>397.092256</td>\n",
       "      <td>19.802368</td>\n",
       "      <td>0.002180</td>\n",
       "      <td>12.202189</td>\n",
       "      <td>0.934951</td>\n",
       "    </tr>\n",
       "  </tbody>\n",
       "</table>\n",
       "</div>"
      ],
      "text/plain": [
       "      Model       EVC         ME        MAE         MSE       RMSE      MSLE  \\\n",
       "0  conv1d-3  0.934000  49.981058  16.823243  440.646566  20.943790  0.002507   \n",
       "0  conv1d-2  0.927676  49.352808  17.479027  458.438458  21.307136  0.002533   \n",
       "0  conv1d-1  0.938936  50.629785  15.859453  397.092256  19.802368  0.002180   \n",
       "\n",
       "         MED        R2  \n",
       "0  14.839256  0.927816  \n",
       "0  14.022659  0.924901  \n",
       "0  12.202189  0.934951  "
      ]
     },
     "execution_count": 42,
     "metadata": {},
     "output_type": "execute_result"
    }
   ],
   "source": [
    "test().head()"
   ]
  },
  {
   "cell_type": "code",
   "execution_count": 39,
   "metadata": {},
   "outputs": [],
   "source": [
    "def get_config(list_of_models):\n",
    "    list_of_configs = []\n",
    "    for m in list_of_models:\n",
    "        list_of_configs.append(m.get_config())\n",
    "        print(m.get_config())\n",
    "    return pd.DataFrame(list_of_configs)"
   ]
  },
  {
   "cell_type": "code",
   "execution_count": 40,
   "metadata": {},
   "outputs": [
    {
     "name": "stdout",
     "output_type": "stream",
     "text": [
      "{'name': 'lstm-1', 'layers': [{'class_name': 'LSTM', 'config': {'name': 'lstm_1', 'trainable': True, 'batch_input_shape': (None, 12, 1), 'dtype': 'float32', 'return_sequences': False, 'return_state': False, 'go_backwards': False, 'stateful': False, 'unroll': False, 'units': 100, 'activation': 'relu', 'recurrent_activation': 'sigmoid', 'use_bias': True, 'kernel_initializer': {'class_name': 'VarianceScaling', 'config': {'scale': 1.0, 'mode': 'fan_avg', 'distribution': 'uniform', 'seed': None}}, 'recurrent_initializer': {'class_name': 'Orthogonal', 'config': {'gain': 1.0, 'seed': None}}, 'bias_initializer': {'class_name': 'Zeros', 'config': {}}, 'unit_forget_bias': True, 'kernel_regularizer': None, 'recurrent_regularizer': None, 'bias_regularizer': None, 'activity_regularizer': None, 'kernel_constraint': None, 'recurrent_constraint': None, 'bias_constraint': None, 'dropout': 0.0, 'recurrent_dropout': 0.0, 'implementation': 2}}, {'class_name': 'Dense', 'config': {'name': 'dense_1', 'trainable': True, 'dtype': 'float32', 'units': 100, 'activation': 'relu', 'use_bias': True, 'kernel_initializer': {'class_name': 'VarianceScaling', 'config': {'scale': 1.0, 'mode': 'fan_avg', 'distribution': 'uniform', 'seed': None}}, 'bias_initializer': {'class_name': 'Zeros', 'config': {}}, 'kernel_regularizer': None, 'bias_regularizer': None, 'activity_regularizer': None, 'kernel_constraint': None, 'bias_constraint': None}}, {'class_name': 'Dense', 'config': {'name': 'dense_2', 'trainable': True, 'dtype': 'float32', 'units': 1, 'activation': 'linear', 'use_bias': True, 'kernel_initializer': {'class_name': 'VarianceScaling', 'config': {'scale': 1.0, 'mode': 'fan_avg', 'distribution': 'uniform', 'seed': None}}, 'bias_initializer': {'class_name': 'Zeros', 'config': {}}, 'kernel_regularizer': None, 'bias_regularizer': None, 'activity_regularizer': None, 'kernel_constraint': None, 'bias_constraint': None}}]}\n",
      "{'name': 'lstm-2', 'layers': [{'class_name': 'LSTM', 'config': {'name': 'lstm_2', 'trainable': True, 'batch_input_shape': (None, 12, 1), 'dtype': 'float32', 'return_sequences': False, 'return_state': False, 'go_backwards': False, 'stateful': False, 'unroll': False, 'units': 100, 'activation': 'relu', 'recurrent_activation': 'sigmoid', 'use_bias': True, 'kernel_initializer': {'class_name': 'VarianceScaling', 'config': {'scale': 1.0, 'mode': 'fan_avg', 'distribution': 'uniform', 'seed': None}}, 'recurrent_initializer': {'class_name': 'Orthogonal', 'config': {'gain': 1.0, 'seed': None}}, 'bias_initializer': {'class_name': 'Zeros', 'config': {}}, 'unit_forget_bias': True, 'kernel_regularizer': None, 'recurrent_regularizer': None, 'bias_regularizer': None, 'activity_regularizer': None, 'kernel_constraint': None, 'recurrent_constraint': None, 'bias_constraint': None, 'dropout': 0.0, 'recurrent_dropout': 0.0, 'implementation': 2}}, {'class_name': 'Dense', 'config': {'name': 'dense_3', 'trainable': True, 'dtype': 'float32', 'units': 100, 'activation': 'relu', 'use_bias': True, 'kernel_initializer': {'class_name': 'VarianceScaling', 'config': {'scale': 1.0, 'mode': 'fan_avg', 'distribution': 'uniform', 'seed': None}}, 'bias_initializer': {'class_name': 'Zeros', 'config': {}}, 'kernel_regularizer': None, 'bias_regularizer': None, 'activity_regularizer': None, 'kernel_constraint': None, 'bias_constraint': None}}, {'class_name': 'Dense', 'config': {'name': 'dense_4', 'trainable': True, 'dtype': 'float32', 'units': 1, 'activation': 'linear', 'use_bias': True, 'kernel_initializer': {'class_name': 'VarianceScaling', 'config': {'scale': 1.0, 'mode': 'fan_avg', 'distribution': 'uniform', 'seed': None}}, 'bias_initializer': {'class_name': 'Zeros', 'config': {}}, 'kernel_regularizer': None, 'bias_regularizer': None, 'activity_regularizer': None, 'kernel_constraint': None, 'bias_constraint': None}}]}\n",
      "{'name': 'conv1d-1', 'layers': [{'class_name': 'Conv1D', 'config': {'name': 'conv1d_1', 'trainable': True, 'batch_input_shape': (None, 12, 1), 'dtype': 'float32', 'filters': 64, 'kernel_size': (3,), 'strides': (1,), 'padding': 'valid', 'data_format': 'channels_last', 'dilation_rate': (1,), 'activation': 'relu', 'use_bias': True, 'kernel_initializer': {'class_name': 'VarianceScaling', 'config': {'scale': 1.0, 'mode': 'fan_avg', 'distribution': 'uniform', 'seed': None}}, 'bias_initializer': {'class_name': 'Zeros', 'config': {}}, 'kernel_regularizer': None, 'bias_regularizer': None, 'activity_regularizer': None, 'kernel_constraint': None, 'bias_constraint': None}}, {'class_name': 'MaxPooling1D', 'config': {'name': 'max_pooling1d_1', 'trainable': True, 'dtype': 'float32', 'strides': (2,), 'pool_size': (2,), 'padding': 'valid', 'data_format': 'channels_last'}}, {'class_name': 'Flatten', 'config': {'name': 'flatten_1', 'trainable': True, 'dtype': 'float32', 'data_format': 'channels_last'}}, {'class_name': 'Dense', 'config': {'name': 'dense_5', 'trainable': True, 'dtype': 'float32', 'units': 1, 'activation': 'linear', 'use_bias': True, 'kernel_initializer': {'class_name': 'VarianceScaling', 'config': {'scale': 1.0, 'mode': 'fan_avg', 'distribution': 'uniform', 'seed': None}}, 'bias_initializer': {'class_name': 'Zeros', 'config': {}}, 'kernel_regularizer': None, 'bias_regularizer': None, 'activity_regularizer': None, 'kernel_constraint': None, 'bias_constraint': None}}]}\n",
      "{'name': 'conv1d-2', 'layers': [{'class_name': 'Conv1D', 'config': {'name': 'conv1d_2', 'trainable': True, 'batch_input_shape': (None, 12, 1), 'dtype': 'float32', 'filters': 64, 'kernel_size': (3,), 'strides': (1,), 'padding': 'valid', 'data_format': 'channels_last', 'dilation_rate': (1,), 'activation': 'relu', 'use_bias': True, 'kernel_initializer': {'class_name': 'VarianceScaling', 'config': {'scale': 1.0, 'mode': 'fan_avg', 'distribution': 'uniform', 'seed': None}}, 'bias_initializer': {'class_name': 'Zeros', 'config': {}}, 'kernel_regularizer': None, 'bias_regularizer': None, 'activity_regularizer': None, 'kernel_constraint': None, 'bias_constraint': None}}, {'class_name': 'MaxPooling1D', 'config': {'name': 'max_pooling1d_2', 'trainable': True, 'dtype': 'float32', 'strides': (2,), 'pool_size': (2,), 'padding': 'valid', 'data_format': 'channels_last'}}, {'class_name': 'Flatten', 'config': {'name': 'flatten_2', 'trainable': True, 'dtype': 'float32', 'data_format': 'channels_last'}}, {'class_name': 'Dense', 'config': {'name': 'dense_6', 'trainable': True, 'dtype': 'float32', 'units': 1, 'activation': 'linear', 'use_bias': True, 'kernel_initializer': {'class_name': 'VarianceScaling', 'config': {'scale': 1.0, 'mode': 'fan_avg', 'distribution': 'uniform', 'seed': None}}, 'bias_initializer': {'class_name': 'Zeros', 'config': {}}, 'kernel_regularizer': None, 'bias_regularizer': None, 'activity_regularizer': None, 'kernel_constraint': None, 'bias_constraint': None}}]}\n",
      "{'name': 'conv1d-3', 'layers': [{'class_name': 'Conv1D', 'config': {'name': 'conv1d_3', 'trainable': True, 'batch_input_shape': (None, 12, 1), 'dtype': 'float32', 'filters': 64, 'kernel_size': (3,), 'strides': (1,), 'padding': 'valid', 'data_format': 'channels_last', 'dilation_rate': (1,), 'activation': 'relu', 'use_bias': True, 'kernel_initializer': {'class_name': 'VarianceScaling', 'config': {'scale': 1.0, 'mode': 'fan_avg', 'distribution': 'uniform', 'seed': None}}, 'bias_initializer': {'class_name': 'Zeros', 'config': {}}, 'kernel_regularizer': None, 'bias_regularizer': None, 'activity_regularizer': None, 'kernel_constraint': None, 'bias_constraint': None}}, {'class_name': 'MaxPooling1D', 'config': {'name': 'max_pooling1d_3', 'trainable': True, 'dtype': 'float32', 'strides': (2,), 'pool_size': (2,), 'padding': 'valid', 'data_format': 'channels_last'}}, {'class_name': 'Flatten', 'config': {'name': 'flatten_3', 'trainable': True, 'dtype': 'float32', 'data_format': 'channels_last'}}, {'class_name': 'Dense', 'config': {'name': 'dense_7', 'trainable': True, 'dtype': 'float32', 'units': 1, 'activation': 'linear', 'use_bias': True, 'kernel_initializer': {'class_name': 'VarianceScaling', 'config': {'scale': 1.0, 'mode': 'fan_avg', 'distribution': 'uniform', 'seed': None}}, 'bias_initializer': {'class_name': 'Zeros', 'config': {}}, 'kernel_regularizer': None, 'bias_regularizer': None, 'activity_regularizer': None, 'kernel_constraint': None, 'bias_constraint': None}}]}\n"
     ]
    },
    {
     "data": {
      "text/html": [
       "<div>\n",
       "<style scoped>\n",
       "    .dataframe tbody tr th:only-of-type {\n",
       "        vertical-align: middle;\n",
       "    }\n",
       "\n",
       "    .dataframe tbody tr th {\n",
       "        vertical-align: top;\n",
       "    }\n",
       "\n",
       "    .dataframe thead th {\n",
       "        text-align: right;\n",
       "    }\n",
       "</style>\n",
       "<table border=\"1\" class=\"dataframe\">\n",
       "  <thead>\n",
       "    <tr style=\"text-align: right;\">\n",
       "      <th></th>\n",
       "      <th>name</th>\n",
       "      <th>layers</th>\n",
       "    </tr>\n",
       "  </thead>\n",
       "  <tbody>\n",
       "    <tr>\n",
       "      <td>0</td>\n",
       "      <td>lstm-1</td>\n",
       "      <td>[{'class_name': 'LSTM', 'config': {'name': 'ls...</td>\n",
       "    </tr>\n",
       "    <tr>\n",
       "      <td>1</td>\n",
       "      <td>lstm-2</td>\n",
       "      <td>[{'class_name': 'LSTM', 'config': {'name': 'ls...</td>\n",
       "    </tr>\n",
       "    <tr>\n",
       "      <td>2</td>\n",
       "      <td>conv1d-1</td>\n",
       "      <td>[{'class_name': 'Conv1D', 'config': {'name': '...</td>\n",
       "    </tr>\n",
       "    <tr>\n",
       "      <td>3</td>\n",
       "      <td>conv1d-2</td>\n",
       "      <td>[{'class_name': 'Conv1D', 'config': {'name': '...</td>\n",
       "    </tr>\n",
       "    <tr>\n",
       "      <td>4</td>\n",
       "      <td>conv1d-3</td>\n",
       "      <td>[{'class_name': 'Conv1D', 'config': {'name': '...</td>\n",
       "    </tr>\n",
       "  </tbody>\n",
       "</table>\n",
       "</div>"
      ],
      "text/plain": [
       "       name                                             layers\n",
       "0    lstm-1  [{'class_name': 'LSTM', 'config': {'name': 'ls...\n",
       "1    lstm-2  [{'class_name': 'LSTM', 'config': {'name': 'ls...\n",
       "2  conv1d-1  [{'class_name': 'Conv1D', 'config': {'name': '...\n",
       "3  conv1d-2  [{'class_name': 'Conv1D', 'config': {'name': '...\n",
       "4  conv1d-3  [{'class_name': 'Conv1D', 'config': {'name': '..."
      ]
     },
     "execution_count": 40,
     "metadata": {},
     "output_type": "execute_result"
    }
   ],
   "source": [
    "get_config(models)"
   ]
  },
  {
   "cell_type": "code",
   "execution_count": null,
   "metadata": {},
   "outputs": [],
   "source": []
  }
 ],
 "metadata": {
  "kernelspec": {
   "display_name": "Python 3",
   "language": "python",
   "name": "python3"
  },
  "language_info": {
   "codemirror_mode": {
    "name": "ipython",
    "version": 3
   },
   "file_extension": ".py",
   "mimetype": "text/x-python",
   "name": "python",
   "nbconvert_exporter": "python",
   "pygments_lexer": "ipython3",
   "version": "3.7.4"
  }
 },
 "nbformat": 4,
 "nbformat_minor": 4
}
