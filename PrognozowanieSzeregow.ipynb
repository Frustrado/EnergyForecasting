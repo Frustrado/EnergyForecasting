{
 "cells": [
  {
   "cell_type": "markdown",
   "metadata": {},
   "source": [
    "# Import libraries"
   ]
  },
  {
   "cell_type": "code",
   "execution_count": 1,
   "metadata": {},
   "outputs": [
    {
     "name": "stderr",
     "output_type": "stream",
     "text": [
      "Using TensorFlow backend.\n"
     ]
    }
   ],
   "source": [
    "from math import sqrt\n",
    "from numpy import array\n",
    "from numpy import mean\n",
    "import pandas as pd\n",
    "from pandas import DataFrame\n",
    "from pandas import concat\n",
    "from pandas import read_csv\n",
    "from sklearn.metrics import explained_variance_score,max_error,mean_absolute_error,mean_squared_error,mean_squared_log_error,median_absolute_error,r2_score\n",
    "from keras.models import Sequential\n",
    "from keras.layers import Dense\n",
    "from keras.layers import LSTM\n",
    "from keras.layers import Flatten\n",
    "from keras.layers.convolutional import Conv1D\n",
    "from keras.layers.convolutional import MaxPooling1D"
   ]
  },
  {
   "cell_type": "code",
   "execution_count": 2,
   "metadata": {},
   "outputs": [],
   "source": [
    "def train_test_split(data, n_test):\n",
    "    return data[:int(0.8*data.shape[0])], data[int(0.8*data.shape[0]):]"
   ]
  },
  {
   "cell_type": "markdown",
   "metadata": {},
   "source": [
    "## LSTM "
   ]
  },
  {
   "cell_type": "code",
   "execution_count": 3,
   "metadata": {},
   "outputs": [],
   "source": [
    "def lstm_model(config):\n",
    "    *_, n_features, n_input, n_nodes = config\n",
    "    model = Sequential()\n",
    "    model.add(LSTM(n_nodes, activation='relu', input_shape=(n_input, n_features)))\n",
    "    model.add(Dense(n_nodes, activation='relu'))\n",
    "    model.add(Dense(1))\n",
    "    model.compile(loss='mse', optimizer='adam')\n",
    "#     model.name=\"LSTM\"\n",
    "    return model"
   ]
  },
  {
   "cell_type": "markdown",
   "metadata": {},
   "source": [
    "## Conv1D"
   ]
  },
  {
   "cell_type": "code",
   "execution_count": 4,
   "metadata": {},
   "outputs": [],
   "source": [
    "def conv1d_model(config):\n",
    "    *_, n_features, n_input, n_filters, n_kernel = config\n",
    "    model = Sequential()\n",
    "    model.add(Conv1D(filters=n_filters, kernel_size=n_kernel, activation='relu', input_shape=(n_input, n_features)))\n",
    "    model.add(MaxPooling1D(pool_size=2))\n",
    "    model.add(Flatten())\n",
    "    model.add(Dense(1))\n",
    "    model.compile(loss='mse', optimizer='adam')\n",
    "#     model.name=\"Conv1D\"\n",
    "    return model"
   ]
  },
  {
   "cell_type": "code",
   "execution_count": 5,
   "metadata": {},
   "outputs": [],
   "source": [
    "def configuration(name):\n",
    "    name = name.split(\"-\")[0]\n",
    "    \n",
    "    if(name==\"lstm\"):\n",
    "        n_input = [12]\n",
    "        n_nodes = [100]\n",
    "        n_epochs = [2, 3]\n",
    "        n_batch = [1]\n",
    "        n_diff = [12]\n",
    "        n_features = [1]\n",
    "        configs = list()\n",
    "        for i in n_epochs:\n",
    "            for j in n_batch:\n",
    "                for k in n_diff:\n",
    "                    for l in n_features:\n",
    "                        for m in n_input:\n",
    "                            for n in n_nodes:\n",
    "                                cfg = [i, j, k, l, m, n]\n",
    "                                configs.append(cfg)\n",
    "        return (configs, [\"n_epochs\",\"n_batch\",\"n_diff\",\"n_features\",\"n_input\",\"n_nodes\"])\n",
    "    \n",
    "    if(name==\"conv1d\"):\n",
    "        n_input = [12]\n",
    "        n_filters = [64]\n",
    "        n_kernel = [3]\n",
    "        n_epochs = [50]\n",
    "        n_batch = [1]\n",
    "        n_diff = [12]\n",
    "        n_features = [1]\n",
    "        configs = list()\n",
    "        for i in n_epochs:\n",
    "            for j in n_batch:\n",
    "                for k in n_diff:\n",
    "                    for l in n_features:\n",
    "                        for m in n_input:\n",
    "                            for n in n_filters:\n",
    "                                for o in n_kernel:\n",
    "                                    cfg = [i, j, k, l, m, n, o]\n",
    "                                    configs.append(cfg)\n",
    "        return (configs, [\"n_epochs\",\"n_batch\",\"n_diff\",\"n_features\",\"n_input\",\"n_filters\",\"n_kernel\" ])"
   ]
  },
  {
   "cell_type": "code",
   "execution_count": 6,
   "metadata": {},
   "outputs": [],
   "source": [
    "series = read_csv('airline-passengers.csv', header=0, index_col=0)\n",
    "data = series.values\n",
    "n_test = 12"
   ]
  },
  {
   "cell_type": "code",
   "execution_count": 7,
   "metadata": {},
   "outputs": [],
   "source": [
    "# transform list into supervised learning format\n",
    "def series_to_supervised(data, n_in=1, n_out=1):\n",
    "    df = DataFrame(data)\n",
    "    cols = list()\n",
    "    # input sequence (t-n, ... t-1)\n",
    "    for i in range(n_in, 0, -1):\n",
    "        cols.append(df.shift(i))\n",
    "    # forecast sequence (t, t+1, ... t+n)\n",
    "    for i in range(0, n_out):\n",
    "        cols.append(df.shift(-i))\n",
    "    # put it all together\n",
    "    agg = concat(cols, axis=1)\n",
    "    # drop rows with NaN values\n",
    "    agg.dropna(inplace=True)\n",
    "    return agg.values"
   ]
  },
  {
   "cell_type": "code",
   "execution_count": 18,
   "metadata": {},
   "outputs": [],
   "source": [
    "def measure_error(actual, predicted):\n",
    "    return [explained_variance_score(actual, predicted),max_error(actual, predicted),\n",
    "            mean_absolute_error(actual, predicted),mean_squared_error(actual, predicted),\n",
    "            sqrt(mean_squared_error(actual, predicted)),mean_squared_log_error(actual, predicted),\n",
    "            median_absolute_error(actual, predicted),r2_score(actual, predicted)]\n",
    "                                                    "
   ]
  },
  {
   "cell_type": "code",
   "execution_count": 9,
   "metadata": {},
   "outputs": [],
   "source": [
    "def difference(data, order):\n",
    "    return [data[i] - data[i - order] for i in range(order, len(data))]"
   ]
  },
  {
   "cell_type": "code",
   "execution_count": 10,
   "metadata": {},
   "outputs": [],
   "source": [
    "def model_fit(train, config, create_model):\n",
    "    # unpack config\n",
    "    n_epochs, n_batch, n_diff,n_features,n_input,*_ = config\n",
    "    # prepare data\n",
    "    if n_diff > 0:\n",
    "        train = difference(train, n_diff)\n",
    "    # transform series into supervised format\n",
    "    data = series_to_supervised(train, n_in=n_input)\n",
    "    # separate inputs and outputs\n",
    "    train_x, train_y = data[:, :-1], data[:, -1]\n",
    "    # reshape input data into [samples, timesteps, features]\n",
    "    train_x = train_x.reshape((train_x.shape[0], train_x.shape[1], n_features))\n",
    "    # define model\n",
    "#     model = lstm_model(config);\n",
    "    model = create_model\n",
    "    # fit\n",
    "    model.fit(train_x, train_y, epochs=n_epochs, batch_size=n_batch, verbose=0)\n",
    "    return model"
   ]
  },
  {
   "cell_type": "code",
   "execution_count": 11,
   "metadata": {},
   "outputs": [],
   "source": [
    "# forecast with the fit model\n",
    "def model_predict(model, history, config, create_model):\n",
    "    # unpack config\n",
    "    _,_,n_diff,_,n_input,*_ = config\n",
    "    # prepare data\n",
    "    correction = 0.0\n",
    "    if n_diff > 0:\n",
    "        correction = history[-n_diff]\n",
    "        history = difference(history, n_diff)\n",
    "    x_input = array(history[-n_input:]).reshape((1, n_input, 1))\n",
    "    # forecast\n",
    "    yhat = model.predict(x_input, verbose=0)\n",
    "    return correction + yhat[0]"
   ]
  },
  {
   "cell_type": "code",
   "execution_count": 12,
   "metadata": {},
   "outputs": [],
   "source": [
    "def walk_forward_validation(data, n_test, cfg, create_model,array_of_results):\n",
    "    predictions = list()\n",
    "    # split dataset\n",
    "    train, test = train_test_split(data, n_test)\n",
    "    # fit model\n",
    "    model = model_fit(train, cfg, create_model)\n",
    "    # seed history with training dataset\n",
    "    history = [x for x in train]\n",
    "    # step over each time-step in the test set\n",
    "    for i in range(len(test)):\n",
    "        # fit model and make forecast for history\n",
    "        yhat = model_predict(model, history, cfg, create_model)\n",
    "        # store forecast in list of predictions\n",
    "        predictions.append(yhat)\n",
    "        # add actual observation to history for the next loop\n",
    "        history.append(test[i])\n",
    "    # estimate prediction error\n",
    "    error = measure_error(test, predictions)\n",
    "\n",
    "    return error"
   ]
  },
  {
   "cell_type": "code",
   "execution_count": 28,
   "metadata": {},
   "outputs": [],
   "source": [
    "def repeat_evaluate(data, config, n_test,create_model,array_of_results,keys, n_repeats=2):\n",
    "    #MOŻE TU BYĆ PROBLEM W JAK ZMIENIMY n_repeats\n",
    "    scores = [walk_forward_validation(data, n_test, config, create_model,array_of_results) for _ in range(n_repeats)]\n",
    "    results ={}\n",
    "    scores = zip(scores[0],scores[1])\n",
    "    result = []\n",
    "    for s in scores:\n",
    "        print(s)\n",
    "        result.append(mean(s))\n",
    "        \n",
    "    if \"Model\" not in results:\n",
    "        results[\"Model\"] = list()\n",
    "    results[\"Model\"].extend([create_model.name])\n",
    "\n",
    "#     for k,c in zip(keys,config):\n",
    "#         if str(k) not in results:\n",
    "#             results[str(k)] = list()\n",
    "#         results[str(k)].extend([c])\n",
    "\n",
    "    if \"EVC\" not in results:\n",
    "        results[\"EVC\"] = list()\n",
    "    results[\"EVC\"].extend([result[0]])\n",
    "\n",
    "    if \"ME\" not in results:\n",
    "        results[\"ME\"] = list()\n",
    "    results[\"ME\"].extend([result[1]])\n",
    "\n",
    "    if \"MAE\" not in results:\n",
    "        results[\"MAE\"] = list()\n",
    "    results[\"MAE\"].extend([result[2]])\n",
    "\n",
    "    if \"MSE\" not in results:\n",
    "        results[\"MSE\"] = list()\n",
    "    results[\"MSE\"].extend([result[3]])\n",
    "\n",
    "    if \"RMSE\" not in results:\n",
    "        results[\"RMSE\"] = list()\n",
    "    results[\"RMSE\"].extend([result[4]])\n",
    "\n",
    "    if \"MSLE\" not in results:\n",
    "        results[\"MSLE\"] = list()\n",
    "    results[\"MSLE\"].extend([result[5]])\n",
    "\n",
    "    if \"MED\" not in results:\n",
    "        results[\"MED\"] = list()\n",
    "    results[\"MED\"].extend([result[6]])\n",
    "\n",
    "    if \"R2\" not in results:\n",
    "        results[\"R2\"] = list()\n",
    "    results[\"R2\"].extend([result[7]])\n",
    "\n",
    "  \n",
    "    return results"
   ]
  },
  {
   "cell_type": "code",
   "execution_count": 29,
   "metadata": {},
   "outputs": [],
   "source": [
    "cfg_list = []\n",
    "cfg_list.append(lstm_model)\n",
    "cfg_list.append(conv1d_model)"
   ]
  },
  {
   "cell_type": "code",
   "execution_count": 30,
   "metadata": {},
   "outputs": [
    {
     "name": "stdout",
     "output_type": "stream",
     "text": [
      "<zip object at 0x00000165A4E6A1C8>\n",
      "(0.9468484936904258, 0.9495282699686235)\n",
      "(45.42891883850098, 46.50606346130371)\n",
      "(14.539744574448157, 13.702353970757846)\n",
      "(327.5957774082918, 322.3876166200161)\n",
      "(18.099607106462056, 17.95515571138318)\n",
      "(0.001789804833210754, 0.0017396186169801907)\n",
      "(13.111427307128906, 10.212638854980469)\n",
      "(0.9463352740112201, 0.9471884428884855)\n",
      "<zip object at 0x00000165A66D2088>\n",
      "(0.9540812535929154, 0.9491000836479098)\n",
      "(49.197025299072266, 47.05603790283203)\n",
      "(14.443612887941558, 15.0195731787846)\n",
      "(328.82619177489346, 360.0596606310753)\n",
      "(18.13356533544613, 18.97523809155172)\n",
      "(0.0018049884265424155, 0.0018879721531011961)\n",
      "(11.70190143585205, 11.492292404174805)\n",
      "(0.94613371509505, 0.9410172402701712)\n",
      "<zip object at 0x000001659E0FF108>\n",
      "(0.9508769979189361, 0.9294352743531475)\n",
      "(44.97792625427246, 47.946542739868164)\n",
      "(14.193096160888672, 17.453691120805413)\n",
      "(312.46199937713345, 435.66827310057687)\n",
      "(17.67659467706191, 20.872668087730826)\n",
      "(0.0016551772861188973, 0.0024422391103983278)\n",
      "(13.12237548828125, 15.154914855957031)\n",
      "(0.9488143964762357, 0.9286315022650361)\n"
     ]
    }
   ],
   "source": [
    "array_of_results = []\n",
    "results = {}\n",
    "array_of_models = []\n",
    "for cfg_model in cfg_list:\n",
    "    i=1\n",
    "    results.clear()\n",
    "    config = configuration(str(cfg_model.__name__.split(\"_\")[0]))[0]\n",
    "    for cfg in config:\n",
    "\n",
    "        model = cfg_model(cfg)\n",
    "        model.name=str(cfg_model.__name__.split(\"_\")[0]+\"-\"+str(i))\n",
    "        i +=1\n",
    "        array_of_models.append(model)\n",
    "        array_of_results.append(repeat_evaluate(data, cfg, n_test, model, array_of_results,configuration(str(cfg_model.__name__.split(\"_\")[0]))[1]))"
   ]
  },
  {
   "cell_type": "code",
   "execution_count": 31,
   "metadata": {},
   "outputs": [],
   "source": [
    "array_of_dataframes = []\n",
    "for i in array_of_results:\n",
    "    array_of_dataframes.append(pd.DataFrame.from_dict(i))"
   ]
  },
  {
   "cell_type": "code",
   "execution_count": 32,
   "metadata": {},
   "outputs": [
    {
     "name": "stdout",
     "output_type": "stream",
     "text": [
      "    Model       EVC         ME        MAE         MSE       RMSE      MSLE  \\\n",
      "0  lstm-1  0.948188  45.967491  14.121049  324.991697  18.027381  0.001765   \n",
      "\n",
      "         MED        R2  \n",
      "0  11.662033  0.946762  \n",
      "    Model       EVC         ME        MAE         MSE       RMSE      MSLE  \\\n",
      "0  lstm-2  0.951591  48.126532  14.731593  344.442926  18.554402  0.001846   \n",
      "\n",
      "         MED        R2  \n",
      "0  11.597097  0.943575  \n",
      "      Model       EVC         ME        MAE         MSE       RMSE      MSLE  \\\n",
      "0  conv1d-1  0.940156  46.462234  15.823394  374.065136  19.274631  0.002049   \n",
      "\n",
      "         MED        R2  \n",
      "0  14.138645  0.938723  \n"
     ]
    }
   ],
   "source": [
    "for i in array_of_dataframes:\n",
    "    print(i)"
   ]
  },
  {
   "cell_type": "code",
   "execution_count": null,
   "metadata": {},
   "outputs": [],
   "source": []
  }
 ],
 "metadata": {
  "kernelspec": {
   "display_name": "Python 3",
   "language": "python",
   "name": "python3"
  },
  "language_info": {
   "codemirror_mode": {
    "name": "ipython",
    "version": 3
   },
   "file_extension": ".py",
   "mimetype": "text/x-python",
   "name": "python",
   "nbconvert_exporter": "python",
   "pygments_lexer": "ipython3",
   "version": "3.7.4"
  }
 },
 "nbformat": 4,
 "nbformat_minor": 4
}
