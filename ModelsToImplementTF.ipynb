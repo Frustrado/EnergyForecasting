{
 "cells": [
  {
   "cell_type": "code",
   "execution_count": null,
   "metadata": {},
   "outputs": [],
   "source": []
<<<<<<< Updated upstream
  },
  {
   "cell_type": "markdown",
   "metadata": {},
   "source": [
    "# Models\n",
    "- https://www.tensorflow.org/api_docs/python/tf/keras/layers/RNN\n",
    "- https://www.tensorflow.org/api_docs/python/tf/keras/layers/GRU\n",
    "- https://www.tensorflow.org/api_docs/python/tf/keras/layers/ELU\n",
    "- https://www.tensorflow.org/api_docs/python/tf/keras/layers/ConvLSTM2D\n",
    "- https://www.tensorflow.org/api_docs/python/tf/keras/layers/Conv1D\n",
    "- https://www.tensorflow.org/api_docs/python/tf/keras/layers/Average"
   ]
=======
>>>>>>> Stashed changes
  }
 ],
 "metadata": {
  "kernelspec": {
   "display_name": "Python 3",
   "language": "python",
   "name": "python3"
  },
  "language_info": {
   "codemirror_mode": {
    "name": "ipython",
    "version": 3
   },
   "file_extension": ".py",
   "mimetype": "text/x-python",
   "name": "python",
   "nbconvert_exporter": "python",
   "pygments_lexer": "ipython3",
<<<<<<< Updated upstream
   "version": "3.7.4"
=======
   "version": "3.8.3"
>>>>>>> Stashed changes
  }
 },
 "nbformat": 4,
 "nbformat_minor": 4
}
